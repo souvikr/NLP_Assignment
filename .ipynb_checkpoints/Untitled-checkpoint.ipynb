{
 "cells": [
  {
   "cell_type": "markdown",
   "metadata": {},
   "source": [
    "# NLP-Assignment-1\n",
    "\n",
    "©Souvik Roy\n",
    "18210083\n",
    "\n",
    "1. Download Tom Sawyer text dataset.\n",
    "2. Compute tokens, types, and TTR. \n",
    "3. Plot Zipf’s law\n",
    "4. Plot Heaps’ law. Fit a curve and report the estimated K and β values.\n"
   ]
  },
  {
   "cell_type": "code",
   "execution_count": 8,
   "metadata": {},
   "outputs": [
    {
     "name": "stdout",
     "output_type": "stream",
     "text": [
      "Total Token Count: 91176\n"
     ]
    }
   ],
   "source": [
    "import nltk\n",
    "file_content = open(\"TSDataset.txt\", 'r',encoding='utf8')\n",
    "fl= file_content.read()\n",
    "tok = nltk.word_tokenize(fl)\n",
    "print(\"Total Token Count:\", len(tok))\n"
   ]
  },
  {
   "cell_type": "code",
   "execution_count": null,
   "metadata": {},
   "outputs": [],
   "source": []
  },
  {
   "cell_type": "code",
   "execution_count": null,
   "metadata": {},
   "outputs": [],
   "source": []
  },
  {
   "cell_type": "code",
   "execution_count": null,
   "metadata": {},
   "outputs": [],
   "source": []
  }
 ],
 "metadata": {
  "kernelspec": {
   "display_name": "Python 3",
   "language": "python",
   "name": "python3"
  },
  "language_info": {
   "codemirror_mode": {
    "name": "ipython",
    "version": 3
   },
   "file_extension": ".py",
   "mimetype": "text/x-python",
   "name": "python",
   "nbconvert_exporter": "python",
   "pygments_lexer": "ipython3",
   "version": "3.6.5"
  }
 },
 "nbformat": 4,
 "nbformat_minor": 2
}
